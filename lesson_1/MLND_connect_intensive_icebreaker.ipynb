{
 "cells": [
  {
   "cell_type": "markdown",
   "metadata": {
    "deletable": true,
    "editable": true
   },
   "source": [
    "## Icebreaker: Using a decision tree to predict the type of computer a student owns."
   ]
  },
  {
   "cell_type": "markdown",
   "metadata": {
    "deletable": true,
    "editable": true
   },
   "source": [
    "## Importing libraries "
   ]
  },
  {
   "cell_type": "code",
   "execution_count": 1,
   "metadata": {
    "collapsed": false,
    "deletable": true,
    "editable": true,
    "scrolled": false
   },
   "outputs": [],
   "source": [
    "from sklearn import tree\n",
    "import numpy as np\n",
    "import pandas as pd \n",
    "\n",
    "from IPython.display import display, Image"
   ]
  },
  {
   "cell_type": "markdown",
   "metadata": {
    "deletable": true,
    "editable": true
   },
   "source": [
    "## Importing dataset"
   ]
  },
  {
   "cell_type": "code",
   "execution_count": 2,
   "metadata": {
    "collapsed": false,
    "deletable": true,
    "editable": true
   },
   "outputs": [
    {
     "name": "stdout",
     "output_type": "stream",
     "text": [
      "Number of students: 21\n"
     ]
    },
    {
     "data": {
      "text/html": [
       "<div>\n",
       "<table border=\"1\" class=\"dataframe\">\n",
       "  <thead>\n",
       "    <tr style=\"text-align: right;\">\n",
       "      <th></th>\n",
       "      <th>Timestamp</th>\n",
       "      <th>name</th>\n",
       "      <th>why_nanodegree</th>\n",
       "      <th>something_interesting</th>\n",
       "      <th>price</th>\n",
       "      <th>configurations</th>\n",
       "      <th>gaming</th>\n",
       "      <th>security</th>\n",
       "      <th>designing</th>\n",
       "      <th>type_of_computer</th>\n",
       "    </tr>\n",
       "  </thead>\n",
       "  <tbody>\n",
       "    <tr>\n",
       "      <th>0</th>\n",
       "      <td>2/11/2017 10:29:43</td>\n",
       "      <td>ganesh</td>\n",
       "      <td>want to obtain hands on experience</td>\n",
       "      <td>NaN</td>\n",
       "      <td>2</td>\n",
       "      <td>2</td>\n",
       "      <td>2</td>\n",
       "      <td>1</td>\n",
       "      <td>1</td>\n",
       "      <td>mac</td>\n",
       "    </tr>\n",
       "    <tr>\n",
       "      <th>1</th>\n",
       "      <td>2/11/2017 10:30:14</td>\n",
       "      <td>Brook</td>\n",
       "      <td>Learn to predictive analytics</td>\n",
       "      <td>Ethiopian</td>\n",
       "      <td>1</td>\n",
       "      <td>2</td>\n",
       "      <td>2</td>\n",
       "      <td>2</td>\n",
       "      <td>2</td>\n",
       "      <td>mac</td>\n",
       "    </tr>\n",
       "    <tr>\n",
       "      <th>2</th>\n",
       "      <td>2/11/2017 10:30:35</td>\n",
       "      <td>vamsi</td>\n",
       "      <td>very exciting area</td>\n",
       "      <td>NaN</td>\n",
       "      <td>2</td>\n",
       "      <td>2</td>\n",
       "      <td>2</td>\n",
       "      <td>2</td>\n",
       "      <td>1</td>\n",
       "      <td>pc</td>\n",
       "    </tr>\n",
       "    <tr>\n",
       "      <th>3</th>\n",
       "      <td>2/11/2017 10:30:59</td>\n",
       "      <td>Jon</td>\n",
       "      <td>Trying to make the jump into SW engineering</td>\n",
       "      <td>NaN</td>\n",
       "      <td>1</td>\n",
       "      <td>2</td>\n",
       "      <td>2</td>\n",
       "      <td>1</td>\n",
       "      <td>2</td>\n",
       "      <td>mac</td>\n",
       "    </tr>\n",
       "    <tr>\n",
       "      <th>4</th>\n",
       "      <td>2/11/2017 10:32:06</td>\n",
       "      <td>Aiman</td>\n",
       "      <td>To find a new job</td>\n",
       "      <td>He enjoys playing soccer</td>\n",
       "      <td>1</td>\n",
       "      <td>1</td>\n",
       "      <td>2</td>\n",
       "      <td>1</td>\n",
       "      <td>2</td>\n",
       "      <td>mac</td>\n",
       "    </tr>\n",
       "  </tbody>\n",
       "</table>\n",
       "</div>"
      ],
      "text/plain": [
       "            Timestamp     name                               why_nanodegree  \\\n",
       "0  2/11/2017 10:29:43  ganesh            want to obtain hands on experience   \n",
       "1  2/11/2017 10:30:14    Brook                Learn to predictive analytics   \n",
       "2  2/11/2017 10:30:35    vamsi                           very exciting area   \n",
       "3  2/11/2017 10:30:59      Jon  Trying to make the jump into SW engineering   \n",
       "4  2/11/2017 10:32:06    Aiman                            To find a new job   \n",
       "\n",
       "      something_interesting  price  configurations  gaming   security  \\\n",
       "0                       NaN      2               2        2         1   \n",
       "1                 Ethiopian      1               2        2         2   \n",
       "2                       NaN      2               2        2         2   \n",
       "3                       NaN      1               2        2         1   \n",
       "4  He enjoys playing soccer      1               1        2         1   \n",
       "\n",
       "   designing type_of_computer  \n",
       "0          1              mac  \n",
       "1          2              mac  \n",
       "2          1               pc  \n",
       "3          2              mac  \n",
       "4          2              mac  "
      ]
     },
     "metadata": {},
     "output_type": "display_data"
    }
   ],
   "source": [
    "\n",
    "in_file = 'students.csv'\n",
    "students = pd.read_csv(in_file)\n",
    "\n",
    "print(\"Number of students: {}\".format(len(students)))\n",
    "\n",
    "display(students.head(5))\n"
   ]
  },
  {
   "cell_type": "markdown",
   "metadata": {
    "deletable": true,
    "editable": true
   },
   "source": [
    "## Separating test dataset"
   ]
  },
  {
   "cell_type": "code",
   "execution_count": 8,
   "metadata": {
    "collapsed": false,
    "deletable": true,
    "editable": true
   },
   "outputs": [
    {
     "name": "stdout",
     "output_type": "stream",
     "text": [
      "Training dataset size:18\n"
     ]
    },
    {
     "data": {
      "text/html": [
       "<div>\n",
       "<table border=\"1\" class=\"dataframe\">\n",
       "  <thead>\n",
       "    <tr style=\"text-align: right;\">\n",
       "      <th></th>\n",
       "      <th>Timestamp</th>\n",
       "      <th>name</th>\n",
       "      <th>why_nanodegree</th>\n",
       "      <th>something_interesting</th>\n",
       "      <th>price</th>\n",
       "      <th>configurations</th>\n",
       "      <th>gaming</th>\n",
       "      <th>security</th>\n",
       "      <th>designing</th>\n",
       "      <th>type_of_computer</th>\n",
       "    </tr>\n",
       "  </thead>\n",
       "  <tbody>\n",
       "    <tr>\n",
       "      <th>0</th>\n",
       "      <td>2/11/2017 10:29:43</td>\n",
       "      <td>ganesh</td>\n",
       "      <td>want to obtain hands on experience</td>\n",
       "      <td>NaN</td>\n",
       "      <td>2</td>\n",
       "      <td>2</td>\n",
       "      <td>2</td>\n",
       "      <td>1</td>\n",
       "      <td>1</td>\n",
       "      <td>mac</td>\n",
       "    </tr>\n",
       "  </tbody>\n",
       "</table>\n",
       "</div>"
      ],
      "text/plain": [
       "            Timestamp     name                      why_nanodegree  \\\n",
       "0  2/11/2017 10:29:43  ganesh   want to obtain hands on experience   \n",
       "\n",
       "  something_interesting  price  configurations  gaming   security  designing  \\\n",
       "0                   NaN      2               2        2         1          1   \n",
       "\n",
       "  type_of_computer  \n",
       "0              mac  "
      ]
     },
     "metadata": {},
     "output_type": "display_data"
    },
    {
     "name": "stdout",
     "output_type": "stream",
     "text": [
      "Testing dataset size:3\n"
     ]
    },
    {
     "data": {
      "text/html": [
       "<div>\n",
       "<table border=\"1\" class=\"dataframe\">\n",
       "  <thead>\n",
       "    <tr style=\"text-align: right;\">\n",
       "      <th></th>\n",
       "      <th>Timestamp</th>\n",
       "      <th>name</th>\n",
       "      <th>why_nanodegree</th>\n",
       "      <th>something_interesting</th>\n",
       "      <th>price</th>\n",
       "      <th>configurations</th>\n",
       "      <th>gaming</th>\n",
       "      <th>security</th>\n",
       "      <th>designing</th>\n",
       "      <th>type_of_computer</th>\n",
       "    </tr>\n",
       "  </thead>\n",
       "  <tbody>\n",
       "    <tr>\n",
       "      <th>1</th>\n",
       "      <td>2/11/2017 10:30:14</td>\n",
       "      <td>Brook</td>\n",
       "      <td>Learn to predictive analytics</td>\n",
       "      <td>Ethiopian</td>\n",
       "      <td>1</td>\n",
       "      <td>2</td>\n",
       "      <td>2</td>\n",
       "      <td>2</td>\n",
       "      <td>2</td>\n",
       "      <td>mac</td>\n",
       "    </tr>\n",
       "  </tbody>\n",
       "</table>\n",
       "</div>"
      ],
      "text/plain": [
       "            Timestamp   name                 why_nanodegree  \\\n",
       "1  2/11/2017 10:30:14  Brook  Learn to predictive analytics   \n",
       "\n",
       "  something_interesting  price  configurations  gaming   security  designing  \\\n",
       "1             Ethiopian      1               2        2         2          2   \n",
       "\n",
       "  type_of_computer  \n",
       "1              mac  "
      ]
     },
     "metadata": {},
     "output_type": "display_data"
    }
   ],
   "source": [
    "train_data = students[(students.name != 'Brook') & (students.name != 'Jon') & (students.name != 'Aiman')]\n",
    "test_data = students[(students.name == 'Brook') | (students.name == 'Jon') | (students.name == 'Aiman')]\n",
    "\n",
    "print(\"Training dataset size:{}\".format(len(train_data)))\n",
    "display(train_data.head(1))\n",
    "\n",
    "print(\"Testing dataset size:{}\".format(len(test_data)))\n",
    "display(test_data.head(1))"
   ]
  },
  {
   "cell_type": "markdown",
   "metadata": {
    "deletable": true,
    "editable": true
   },
   "source": [
    "## Remove columns"
   ]
  },
  {
   "cell_type": "code",
   "execution_count": 9,
   "metadata": {
    "collapsed": false,
    "deletable": true,
    "editable": true
   },
   "outputs": [
    {
     "data": {
      "text/html": [
       "<div>\n",
       "<table border=\"1\" class=\"dataframe\">\n",
       "  <thead>\n",
       "    <tr style=\"text-align: right;\">\n",
       "      <th></th>\n",
       "      <th>price</th>\n",
       "      <th>configurations</th>\n",
       "      <th>gaming</th>\n",
       "      <th>security</th>\n",
       "      <th>designing</th>\n",
       "      <th>type_of_computer</th>\n",
       "    </tr>\n",
       "  </thead>\n",
       "  <tbody>\n",
       "    <tr>\n",
       "      <th>0</th>\n",
       "      <td>2</td>\n",
       "      <td>2</td>\n",
       "      <td>2</td>\n",
       "      <td>1</td>\n",
       "      <td>1</td>\n",
       "      <td>mac</td>\n",
       "    </tr>\n",
       "    <tr>\n",
       "      <th>2</th>\n",
       "      <td>2</td>\n",
       "      <td>2</td>\n",
       "      <td>2</td>\n",
       "      <td>2</td>\n",
       "      <td>1</td>\n",
       "      <td>pc</td>\n",
       "    </tr>\n",
       "    <tr>\n",
       "      <th>5</th>\n",
       "      <td>1</td>\n",
       "      <td>2</td>\n",
       "      <td>2</td>\n",
       "      <td>2</td>\n",
       "      <td>2</td>\n",
       "      <td>mac</td>\n",
       "    </tr>\n",
       "    <tr>\n",
       "      <th>6</th>\n",
       "      <td>1</td>\n",
       "      <td>2</td>\n",
       "      <td>2</td>\n",
       "      <td>1</td>\n",
       "      <td>2</td>\n",
       "      <td>mac</td>\n",
       "    </tr>\n",
       "    <tr>\n",
       "      <th>7</th>\n",
       "      <td>2</td>\n",
       "      <td>2</td>\n",
       "      <td>2</td>\n",
       "      <td>2</td>\n",
       "      <td>2</td>\n",
       "      <td>mac</td>\n",
       "    </tr>\n",
       "  </tbody>\n",
       "</table>\n",
       "</div>"
      ],
      "text/plain": [
       "   price  configurations  gaming   security  designing type_of_computer\n",
       "0      2               2        2         1          1              mac\n",
       "2      2               2        2         2          1               pc\n",
       "5      1               2        2         2          2              mac\n",
       "6      1               2        2         1          2              mac\n",
       "7      2               2        2         2          2              mac"
      ]
     },
     "metadata": {},
     "output_type": "display_data"
    }
   ],
   "source": [
    "\n",
    "train_data = train_data.drop(['Timestamp', 'name','why_nanodegree','something_interesting'], axis=1)\n",
    "\n",
    "display(train_data.head(5))\n"
   ]
  },
  {
   "cell_type": "markdown",
   "metadata": {
    "deletable": true,
    "editable": true
   },
   "source": [
    "## Separating the target variable - training data"
   ]
  },
  {
   "cell_type": "code",
   "execution_count": 11,
   "metadata": {
    "collapsed": false,
    "deletable": true,
    "editable": true,
    "scrolled": true
   },
   "outputs": [
    {
     "name": "stdout",
     "output_type": "stream",
     "text": [
      "Target dataset size:18\n"
     ]
    },
    {
     "data": {
      "text/plain": [
       "0    mac\n",
       "2     pc\n",
       "5    mac\n",
       "6    mac\n",
       "7    mac\n",
       "Name: type_of_computer, dtype: object"
      ]
     },
     "metadata": {},
     "output_type": "display_data"
    },
    {
     "name": "stdout",
     "output_type": "stream",
     "text": [
      "\n",
      "Predictor dataset size:18\n"
     ]
    },
    {
     "data": {
      "text/html": [
       "<div>\n",
       "<table border=\"1\" class=\"dataframe\">\n",
       "  <thead>\n",
       "    <tr style=\"text-align: right;\">\n",
       "      <th></th>\n",
       "      <th>price</th>\n",
       "      <th>configurations</th>\n",
       "      <th>gaming</th>\n",
       "      <th>security</th>\n",
       "      <th>designing</th>\n",
       "    </tr>\n",
       "  </thead>\n",
       "  <tbody>\n",
       "    <tr>\n",
       "      <th>0</th>\n",
       "      <td>2</td>\n",
       "      <td>2</td>\n",
       "      <td>2</td>\n",
       "      <td>1</td>\n",
       "      <td>1</td>\n",
       "    </tr>\n",
       "  </tbody>\n",
       "</table>\n",
       "</div>"
      ],
      "text/plain": [
       "   price  configurations  gaming   security  designing\n",
       "0      2               2        2         1          1"
      ]
     },
     "metadata": {},
     "output_type": "display_data"
    }
   ],
   "source": [
    "train_target = train_data['type_of_computer']\n",
    "train_predictors = train_data.drop('type_of_computer', axis = 1)\n",
    "\n",
    "print(\"Target dataset size:{}\".format(len(train_target)))\n",
    "display(train_target.head(5))\n",
    "\n",
    "print(\"\\nPredictor dataset size:{}\".format(len(train_predictors)))\n",
    "display(train_predictors.head(1))"
   ]
  },
  {
   "cell_type": "markdown",
   "metadata": {
    "deletable": true,
    "editable": true
   },
   "source": [
    "## Separating the target variable - test data"
   ]
  },
  {
   "cell_type": "code",
   "execution_count": 12,
   "metadata": {
    "collapsed": false,
    "deletable": true,
    "editable": true,
    "scrolled": true
   },
   "outputs": [
    {
     "name": "stdout",
     "output_type": "stream",
     "text": [
      "Target dataset size:3\n"
     ]
    },
    {
     "data": {
      "text/plain": [
       "1    mac\n",
       "3    mac\n",
       "4    mac\n",
       "Name: type_of_computer, dtype: object"
      ]
     },
     "metadata": {},
     "output_type": "display_data"
    },
    {
     "name": "stdout",
     "output_type": "stream",
     "text": [
      "\n",
      "Predictor dataset size:3\n"
     ]
    },
    {
     "data": {
      "text/html": [
       "<div>\n",
       "<table border=\"1\" class=\"dataframe\">\n",
       "  <thead>\n",
       "    <tr style=\"text-align: right;\">\n",
       "      <th></th>\n",
       "      <th>Timestamp</th>\n",
       "      <th>name</th>\n",
       "      <th>why_nanodegree</th>\n",
       "      <th>something_interesting</th>\n",
       "      <th>price</th>\n",
       "      <th>configurations</th>\n",
       "      <th>gaming</th>\n",
       "      <th>security</th>\n",
       "      <th>designing</th>\n",
       "    </tr>\n",
       "  </thead>\n",
       "  <tbody>\n",
       "    <tr>\n",
       "      <th>1</th>\n",
       "      <td>2/11/2017 10:30:14</td>\n",
       "      <td>Brook</td>\n",
       "      <td>Learn to predictive analytics</td>\n",
       "      <td>Ethiopian</td>\n",
       "      <td>1</td>\n",
       "      <td>2</td>\n",
       "      <td>2</td>\n",
       "      <td>2</td>\n",
       "      <td>2</td>\n",
       "    </tr>\n",
       "    <tr>\n",
       "      <th>3</th>\n",
       "      <td>2/11/2017 10:30:59</td>\n",
       "      <td>Jon</td>\n",
       "      <td>Trying to make the jump into SW engineering</td>\n",
       "      <td>NaN</td>\n",
       "      <td>1</td>\n",
       "      <td>2</td>\n",
       "      <td>2</td>\n",
       "      <td>1</td>\n",
       "      <td>2</td>\n",
       "    </tr>\n",
       "    <tr>\n",
       "      <th>4</th>\n",
       "      <td>2/11/2017 10:32:06</td>\n",
       "      <td>Aiman</td>\n",
       "      <td>To find a new job</td>\n",
       "      <td>He enjoys playing soccer</td>\n",
       "      <td>1</td>\n",
       "      <td>1</td>\n",
       "      <td>2</td>\n",
       "      <td>1</td>\n",
       "      <td>2</td>\n",
       "    </tr>\n",
       "  </tbody>\n",
       "</table>\n",
       "</div>"
      ],
      "text/plain": [
       "            Timestamp   name                               why_nanodegree  \\\n",
       "1  2/11/2017 10:30:14  Brook                Learn to predictive analytics   \n",
       "3  2/11/2017 10:30:59    Jon  Trying to make the jump into SW engineering   \n",
       "4  2/11/2017 10:32:06  Aiman                            To find a new job   \n",
       "\n",
       "      something_interesting  price  configurations  gaming   security  \\\n",
       "1                 Ethiopian      1               2        2         2   \n",
       "3                       NaN      1               2        2         1   \n",
       "4  He enjoys playing soccer      1               1        2         1   \n",
       "\n",
       "   designing  \n",
       "1          2  \n",
       "3          2  \n",
       "4          2  "
      ]
     },
     "metadata": {},
     "output_type": "display_data"
    }
   ],
   "source": [
    "test_target = test_data['type_of_computer']\n",
    "test_predictors = test_data.drop('type_of_computer', axis = 1)\n",
    "\n",
    "print(\"Target dataset size:{}\".format(len(test_target)))\n",
    "display(test_target.head(5))\n",
    "\n",
    "print(\"\\nPredictor dataset size:{}\".format(len(test_predictors)))\n",
    "display(test_predictors.head())"
   ]
  },
  {
   "cell_type": "markdown",
   "metadata": {
    "deletable": true,
    "editable": true
   },
   "source": [
    "## Building the Decision Tree Classifier "
   ]
  },
  {
   "cell_type": "code",
   "execution_count": 13,
   "metadata": {
    "collapsed": false,
    "deletable": true,
    "editable": true
   },
   "outputs": [],
   "source": [
    "clf = tree.DecisionTreeClassifier()\n",
    "clf = clf.fit(train_predictors, train_target)\n"
   ]
  },
  {
   "cell_type": "markdown",
   "metadata": {
    "deletable": true,
    "editable": true
   },
   "source": [
    "## Retrieving test data"
   ]
  },
  {
   "cell_type": "code",
   "execution_count": 14,
   "metadata": {
    "collapsed": false,
    "deletable": true,
    "editable": true
   },
   "outputs": [
    {
     "name": "stdout",
     "output_type": "stream",
     "text": [
      "\n",
      "Student test data:3\n"
     ]
    },
    {
     "data": {
      "text/html": [
       "<div>\n",
       "<table border=\"1\" class=\"dataframe\">\n",
       "  <thead>\n",
       "    <tr style=\"text-align: right;\">\n",
       "      <th></th>\n",
       "      <th>Timestamp</th>\n",
       "      <th>name</th>\n",
       "      <th>why_nanodegree</th>\n",
       "      <th>something_interesting</th>\n",
       "      <th>price</th>\n",
       "      <th>configurations</th>\n",
       "      <th>gaming</th>\n",
       "      <th>security</th>\n",
       "      <th>designing</th>\n",
       "    </tr>\n",
       "  </thead>\n",
       "  <tbody>\n",
       "    <tr>\n",
       "      <th>1</th>\n",
       "      <td>2/11/2017 10:30:14</td>\n",
       "      <td>Brook</td>\n",
       "      <td>Learn to predictive analytics</td>\n",
       "      <td>Ethiopian</td>\n",
       "      <td>1</td>\n",
       "      <td>2</td>\n",
       "      <td>2</td>\n",
       "      <td>2</td>\n",
       "      <td>2</td>\n",
       "    </tr>\n",
       "    <tr>\n",
       "      <th>3</th>\n",
       "      <td>2/11/2017 10:30:59</td>\n",
       "      <td>Jon</td>\n",
       "      <td>Trying to make the jump into SW engineering</td>\n",
       "      <td>NaN</td>\n",
       "      <td>1</td>\n",
       "      <td>2</td>\n",
       "      <td>2</td>\n",
       "      <td>1</td>\n",
       "      <td>2</td>\n",
       "    </tr>\n",
       "    <tr>\n",
       "      <th>4</th>\n",
       "      <td>2/11/2017 10:32:06</td>\n",
       "      <td>Aiman</td>\n",
       "      <td>To find a new job</td>\n",
       "      <td>He enjoys playing soccer</td>\n",
       "      <td>1</td>\n",
       "      <td>1</td>\n",
       "      <td>2</td>\n",
       "      <td>1</td>\n",
       "      <td>2</td>\n",
       "    </tr>\n",
       "  </tbody>\n",
       "</table>\n",
       "</div>"
      ],
      "text/plain": [
       "            Timestamp   name                               why_nanodegree  \\\n",
       "1  2/11/2017 10:30:14  Brook                Learn to predictive analytics   \n",
       "3  2/11/2017 10:30:59    Jon  Trying to make the jump into SW engineering   \n",
       "4  2/11/2017 10:32:06  Aiman                            To find a new job   \n",
       "\n",
       "      something_interesting  price  configurations  gaming   security  \\\n",
       "1                 Ethiopian      1               2        2         2   \n",
       "3                       NaN      1               2        2         1   \n",
       "4  He enjoys playing soccer      1               1        2         1   \n",
       "\n",
       "   designing  \n",
       "1          2  \n",
       "3          2  \n",
       "4          2  "
      ]
     },
     "metadata": {},
     "output_type": "display_data"
    }
   ],
   "source": [
    "print(\"\\nStudent test data:{}\".format(len(test_predictors)))\n",
    "display(test_predictors.head(3))\n",
    "student_test_data_final = [test_predictors]"
   ]
  },
  {
   "cell_type": "markdown",
   "metadata": {
    "deletable": true,
    "editable": true
   },
   "source": [
    "## Making predictions "
   ]
  },
  {
   "cell_type": "code",
   "execution_count": 15,
   "metadata": {
    "collapsed": false,
    "deletable": true,
    "editable": true,
    "scrolled": false
   },
   "outputs": [
    {
     "name": "stdout",
     "output_type": "stream",
     "text": [
      "Predicted type of student 1's computer: mac\n",
      "Predicted type of student 2's computer: mac\n",
      "Predicted type of student 3's computer: mac\n",
      " \n",
      "Actual type of student 1's computer: mac\n",
      "Actual type of student 2's computer: mac\n",
      "Actual type of student 3's computer: mac\n"
     ]
    }
   ],
   "source": [
    "student_test_data = [[2, 2, 2, 2, 2], # Student 1\n",
    "                     [1, 1, 1, 1, 1], # Student 2\n",
    "                     [2, 2, 2, 2,2]] # Student 3\n",
    "             \n",
    "\n",
    "\n",
    "for i, computer in enumerate(clf.predict(student_test_data)):\n",
    "    print \"Predicted type of student {}'s computer: {}\".format(i+1, computer)\n",
    "\n",
    "print \" \"\n",
    "\n",
    "for i, actual in enumerate((test_target)):\n",
    "    print \"Actual type of student {}'s computer: {}\".format(i+1, actual)"
   ]
  }
 ],
 "metadata": {
  "kernelspec": {
   "display_name": "Python 2",
   "language": "python",
   "name": "python2"
  },
  "language_info": {
   "codemirror_mode": {
    "name": "ipython",
    "version": 2
   },
   "file_extension": ".py",
   "mimetype": "text/x-python",
   "name": "python",
   "nbconvert_exporter": "python",
   "pygments_lexer": "ipython2",
   "version": "2.7.10"
  }
 },
 "nbformat": 4,
 "nbformat_minor": 2
}
